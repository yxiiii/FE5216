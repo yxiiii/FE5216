{
 "cells": [
  {
   "cell_type": "code",
   "execution_count": 10,
   "metadata": {},
   "outputs": [
    {
     "name": "stderr",
     "output_type": "stream",
     "text": [
      "<ipython-input-10-74b272ac9257>:11: RuntimeWarning: divide by zero encountered in double_scalars\n",
      "  d1 = (np.log(S0/K) + (r + 0.5 * (sigma ** 2)) * T) / (sigma * np.sqrt(T))\n",
      "<ipython-input-10-74b272ac9257>:12: RuntimeWarning: divide by zero encountered in double_scalars\n",
      "  d2 = (np.log(S0/K) + (r - 0.5 * (sigma ** 2)) * T) / (sigma * np.sqrt(T))\n"
     ]
    },
    {
     "data": {
      "text/plain": [
       "0.6818194650870998"
      ]
     },
     "execution_count": 10,
     "metadata": {},
     "output_type": "execute_result"
    }
   ],
   "source": [
    "from scipy import optimize\n",
    "from scipy.stats import norm\n",
    "import pandas as pd\n",
    "import numpy as np\n",
    "\n",
    "brentq = optimize.brentq\n",
    "N = norm.cdf\n",
    "\n",
    "\n",
    "def IV(S0,K,r,T,V,sigma):\n",
    "    d1 = (np.log(S0/K) + (r + 0.5 * (sigma ** 2)) * T) / (sigma * np.sqrt(T))\n",
    "    d2 = (np.log(S0/K) + (r - 0.5 * (sigma ** 2)) * T) / (sigma * np.sqrt(T))\n",
    "    return S0 * N(d1) - K * np.exp(-r*T) * N(d2) - V\n",
    "\n",
    "def IV_solver(S0, K, r, T, V):\n",
    "\n",
    "    def IV_brentq(sigma):\n",
    "        return IV(S0,K,r,T,V,sigma) \n",
    "    \n",
    "    return brentq(IV_brentq, a=0, b=1) \n",
    "\n",
    "IV_solver(S0=1,K=1/0.8,r=0.03,T=1,V=0.2)"
   ]
  },
  {
   "cell_type": "code",
   "execution_count": 11,
   "metadata": {},
   "outputs": [],
   "source": [
    "    def simulate(self):\n",
    "\n",
    "        model = self.model \n",
    "        Type = self.Type \n",
    "        option = self.option\n",
    "\n",
    "        American = False if Type == 'European' else True\n",
    "        optionType = 'c' if option == 'call' else 'p'\n",
    "\n",
    "        if model == 'GBM':\n",
    "            cols = ['moneyness', 'tau', 'r', 'vol', 'option price']\n",
    "            data = []\n",
    "            for i in tqdm(range(10000)):\n",
    "                moneyness = random.uniform(0.5, 1.5)\n",
    "                tau = random.uniform(0.3, 0.95)\n",
    "                r = random.uniform(0.03, 0.08)\n",
    "                vol = random.uniform(0.02, 0.9)\n",
    "                # log_moneyness = np.log( moneyness ) \n",
    "                MC = MonteCarlo(model='GBM', S0=1, K=1/moneyness, T=tau, r=r, q=0, v=vol, method='MC')\n",
    "                MC.generate_S(1000,10)\n",
    "                option_price = MC.pricer(optionType=optionType, American=American)\n",
    "                IV = IV_solver(S0=1,K=1/moneyness,r=r,T=tau,V=option_price)\n",
    "                data.append([moneyness, tau, r, vol, option_price,IV])\n",
    "        \n",
    "        elif model == 'Heston':\n",
    "            cols = ['moneyness', 'tau', 'r', 'vol0', 'theta', 'kappa', 'gamma', 'rho', 'option price']\n",
    "            data = []\n",
    "            for i in tqdm(range(10000)):\n",
    "                moneyness = random.uniform(0.6, 1.4)\n",
    "                tau = random.uniform(0.1, 1.4)\n",
    "                r = random.uniform(0, 0.1)\n",
    "                vol0 = random.uniform(0.05, 0.5)\n",
    "                theta = random.uniform(0, 0.5)\n",
    "                kappa = random.uniform(0, 2)\n",
    "                gamma = random.uniform(0, 0.5)\n",
    "                rho = random.uniform(-0.95, 0)\n",
    "                # moneyness = np.log( moneyness )                      \n",
    "                MC = MonteCarlo(model='Heston', S0=1, K=1/moneyness, T=tau, r=r, q=0, v0=vol0, theta=theta, kappa=kappa, gamma=gamma, rho=rho)\n",
    "                MC.generate_S(1000,10)\n",
    "                option_price = MC.pricer(optionType=optionType, American=American)\n",
    "                IV = IV_solver(S0=1,K=1/moneyness,r=r,T=tau,V=option_price)\n",
    "                data.append([moneyness, tau, r, vol0, theta, kappa, gamma, rho, option_price, IV])\n",
    "\n",
    "        else: \n",
    "            raise(ValueError(f'You input a not-supported model type: {model}'))\n",
    "\n",
    "        data = pd.DataFrame(data, columns=cols)\n",
    "        data.to_csv(f'data_{model}_{Type}_{option}.csv', index=False)"
   ]
  }
 ],
 "metadata": {
  "kernelspec": {
   "display_name": "Python 3",
   "language": "python",
   "name": "python3"
  },
  "language_info": {
   "codemirror_mode": {
    "name": "ipython",
    "version": 3
   },
   "file_extension": ".py",
   "mimetype": "text/x-python",
   "name": "python",
   "nbconvert_exporter": "python",
   "pygments_lexer": "ipython3",
   "version": "3.8.5"
  }
 },
 "nbformat": 4,
 "nbformat_minor": 4
}
